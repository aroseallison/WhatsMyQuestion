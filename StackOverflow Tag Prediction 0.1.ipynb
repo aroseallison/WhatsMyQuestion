{
 "cells": [
  {
   "cell_type": "markdown",
   "id": "6ebc09c6",
   "metadata": {},
   "source": [
    "# First things first, we merge the tags and questions data files"
   ]
  },
  {
   "cell_type": "code",
   "execution_count": 1,
   "id": "b9f6dd10",
   "metadata": {},
   "outputs": [
    {
     "name": "stdout",
     "output_type": "stream",
     "text": [
      "Id      int64\n",
      "Tag    object\n",
      "dtype: object\n"
     ]
    }
   ],
   "source": [
    "import pandas as pd\n",
    "import numpy as np\n",
    "\n",
    "\n",
    "questionsData = pd.read_csv('Questions.csv')\n",
    "tagsData = pd.read_csv('Tags.csv')\n",
    "questionsData.head()\n",
    "tagsData.head()\n",
    "print(tagsData.dtypes)"
   ]
  },
  {
   "cell_type": "code",
   "execution_count": 2,
   "id": "409e88b3",
   "metadata": {},
   "outputs": [
    {
     "data": {
      "text/plain": [
       "0          SQLStatement.execute() - multiple queries in o...\n",
       "1          Good branching and merging tutorials for Torto...\n",
       "2                                          ASP.NET Site Maps\n",
       "3                         Function for creating color wheels\n",
       "4          Adding scripting functionality to .NET applica...\n",
       "                                 ...                        \n",
       "1264211                             URL routing in PHP (MVC)\n",
       "1264212             Bigquery.Jobs.Insert - Resumable Upload?\n",
       "1264213                   Obfuscating code in android studio\n",
       "1264214           How to fire function after v-model change?\n",
       "1264215              npm run mocha test - files being cached\n",
       "Name: Title, Length: 1264216, dtype: object"
      ]
     },
     "execution_count": 2,
     "metadata": {},
     "output_type": "execute_result"
    }
   ],
   "source": [
    "#Deleting unnecessary columns: OwnerUserId, CreationDate, ClosedDate, Score, Title\n",
    "\n",
    "questionsData.pop('OwnerUserId')\n",
    "questionsData.pop('CreationDate')\n",
    "questionsData.pop('ClosedDate')\n",
    "questionsData.pop('Score')\n",
    "questionsData.pop('Title')"
   ]
  },
  {
   "cell_type": "code",
   "execution_count": 3,
   "id": "ef8e85a8",
   "metadata": {},
   "outputs": [
    {
     "data": {
      "text/html": [
       "<div>\n",
       "<style scoped>\n",
       "    .dataframe tbody tr th:only-of-type {\n",
       "        vertical-align: middle;\n",
       "    }\n",
       "\n",
       "    .dataframe tbody tr th {\n",
       "        vertical-align: top;\n",
       "    }\n",
       "\n",
       "    .dataframe thead th {\n",
       "        text-align: right;\n",
       "    }\n",
       "</style>\n",
       "<table border=\"1\" class=\"dataframe\">\n",
       "  <thead>\n",
       "    <tr style=\"text-align: right;\">\n",
       "      <th></th>\n",
       "      <th>Id</th>\n",
       "      <th>Body</th>\n",
       "    </tr>\n",
       "  </thead>\n",
       "  <tbody>\n",
       "    <tr>\n",
       "      <th>0</th>\n",
       "      <td>80</td>\n",
       "      <td>&lt;p&gt;I've written a database generation script i...</td>\n",
       "    </tr>\n",
       "    <tr>\n",
       "      <th>1</th>\n",
       "      <td>90</td>\n",
       "      <td>&lt;p&gt;Are there any really good tutorials explain...</td>\n",
       "    </tr>\n",
       "    <tr>\n",
       "      <th>2</th>\n",
       "      <td>120</td>\n",
       "      <td>&lt;p&gt;Has anyone got experience creating &lt;strong&gt;...</td>\n",
       "    </tr>\n",
       "    <tr>\n",
       "      <th>3</th>\n",
       "      <td>180</td>\n",
       "      <td>&lt;p&gt;This is something I've pseudo-solved many t...</td>\n",
       "    </tr>\n",
       "    <tr>\n",
       "      <th>4</th>\n",
       "      <td>260</td>\n",
       "      <td>&lt;p&gt;I have a little game written in C#. It uses...</td>\n",
       "    </tr>\n",
       "  </tbody>\n",
       "</table>\n",
       "</div>"
      ],
      "text/plain": [
       "    Id                                               Body\n",
       "0   80  <p>I've written a database generation script i...\n",
       "1   90  <p>Are there any really good tutorials explain...\n",
       "2  120  <p>Has anyone got experience creating <strong>...\n",
       "3  180  <p>This is something I've pseudo-solved many t...\n",
       "4  260  <p>I have a little game written in C#. It uses..."
      ]
     },
     "execution_count": 3,
     "metadata": {},
     "output_type": "execute_result"
    }
   ],
   "source": [
    "#Check columns\n",
    "questionsData.head()"
   ]
  },
  {
   "cell_type": "code",
   "execution_count": 4,
   "id": "e317eb56",
   "metadata": {},
   "outputs": [
    {
     "data": {
      "text/html": [
       "<div>\n",
       "<style scoped>\n",
       "    .dataframe tbody tr th:only-of-type {\n",
       "        vertical-align: middle;\n",
       "    }\n",
       "\n",
       "    .dataframe tbody tr th {\n",
       "        vertical-align: top;\n",
       "    }\n",
       "\n",
       "    .dataframe thead th {\n",
       "        text-align: right;\n",
       "    }\n",
       "</style>\n",
       "<table border=\"1\" class=\"dataframe\">\n",
       "  <thead>\n",
       "    <tr style=\"text-align: right;\">\n",
       "      <th></th>\n",
       "      <th>Id</th>\n",
       "      <th>Tag</th>\n",
       "      <th>Body</th>\n",
       "    </tr>\n",
       "  </thead>\n",
       "  <tbody>\n",
       "    <tr>\n",
       "      <th>0</th>\n",
       "      <td>80</td>\n",
       "      <td>flex</td>\n",
       "      <td>&lt;p&gt;I've written a database generation script i...</td>\n",
       "    </tr>\n",
       "    <tr>\n",
       "      <th>1</th>\n",
       "      <td>80</td>\n",
       "      <td>actionscript-3</td>\n",
       "      <td>&lt;p&gt;I've written a database generation script i...</td>\n",
       "    </tr>\n",
       "    <tr>\n",
       "      <th>2</th>\n",
       "      <td>80</td>\n",
       "      <td>air</td>\n",
       "      <td>&lt;p&gt;I've written a database generation script i...</td>\n",
       "    </tr>\n",
       "    <tr>\n",
       "      <th>3</th>\n",
       "      <td>90</td>\n",
       "      <td>svn</td>\n",
       "      <td>&lt;p&gt;Are there any really good tutorials explain...</td>\n",
       "    </tr>\n",
       "    <tr>\n",
       "      <th>4</th>\n",
       "      <td>90</td>\n",
       "      <td>tortoisesvn</td>\n",
       "      <td>&lt;p&gt;Are there any really good tutorials explain...</td>\n",
       "    </tr>\n",
       "  </tbody>\n",
       "</table>\n",
       "</div>"
      ],
      "text/plain": [
       "   Id             Tag                                               Body\n",
       "0  80            flex  <p>I've written a database generation script i...\n",
       "1  80  actionscript-3  <p>I've written a database generation script i...\n",
       "2  80             air  <p>I've written a database generation script i...\n",
       "3  90             svn  <p>Are there any really good tutorials explain...\n",
       "4  90     tortoisesvn  <p>Are there any really good tutorials explain..."
      ]
     },
     "execution_count": 4,
     "metadata": {},
     "output_type": "execute_result"
    }
   ],
   "source": [
    "df = pd.merge(tagsData, questionsData, on='Id')\n",
    "df.head()"
   ]
  },
  {
   "cell_type": "code",
   "execution_count": 5,
   "id": "4c85a62f",
   "metadata": {},
   "outputs": [],
   "source": [
    "#tagsData['count'] = tagsData.groupby('Id')['Tag'].transform('count')\n",
    "#tagsData['count'] = tagsData.groupby(tagsData.columns.tolist(),as_index=False).size()\n",
    "#tagsData.head()\n",
    "#print(tagsData.dtypes)"
   ]
  },
  {
   "cell_type": "code",
   "execution_count": 6,
   "id": "a751ee0a",
   "metadata": {},
   "outputs": [
    {
     "name": "stdout",
     "output_type": "stream",
     "text": [
      "id\n",
      "Tag1    object\n",
      "Tag2    object\n",
      "Tag3    object\n",
      "Tag4    object\n",
      "Tag5    object\n",
      "dtype: object\n"
     ]
    },
    {
     "data": {
      "text/html": [
       "<div>\n",
       "<style scoped>\n",
       "    .dataframe tbody tr th:only-of-type {\n",
       "        vertical-align: middle;\n",
       "    }\n",
       "\n",
       "    .dataframe tbody tr th {\n",
       "        vertical-align: top;\n",
       "    }\n",
       "\n",
       "    .dataframe thead th {\n",
       "        text-align: right;\n",
       "    }\n",
       "</style>\n",
       "<table border=\"1\" class=\"dataframe\">\n",
       "  <thead>\n",
       "    <tr style=\"text-align: right;\">\n",
       "      <th>id</th>\n",
       "      <th>Tag1</th>\n",
       "      <th>Tag2</th>\n",
       "      <th>Tag3</th>\n",
       "      <th>Tag4</th>\n",
       "      <th>Tag5</th>\n",
       "    </tr>\n",
       "  </thead>\n",
       "  <tbody>\n",
       "    <tr>\n",
       "      <th>80</th>\n",
       "      <td>flex</td>\n",
       "      <td>actionscript-3</td>\n",
       "      <td>air</td>\n",
       "      <td>NaN</td>\n",
       "      <td>NaN</td>\n",
       "    </tr>\n",
       "    <tr>\n",
       "      <th>90</th>\n",
       "      <td>svn</td>\n",
       "      <td>tortoisesvn</td>\n",
       "      <td>branch</td>\n",
       "      <td>branching-and-merging</td>\n",
       "      <td>NaN</td>\n",
       "    </tr>\n",
       "    <tr>\n",
       "      <th>120</th>\n",
       "      <td>sql</td>\n",
       "      <td>asp.net</td>\n",
       "      <td>sitemap</td>\n",
       "      <td>NaN</td>\n",
       "      <td>NaN</td>\n",
       "    </tr>\n",
       "    <tr>\n",
       "      <th>180</th>\n",
       "      <td>algorithm</td>\n",
       "      <td>language-agnostic</td>\n",
       "      <td>colors</td>\n",
       "      <td>color-space</td>\n",
       "      <td>NaN</td>\n",
       "    </tr>\n",
       "    <tr>\n",
       "      <th>260</th>\n",
       "      <td>c#</td>\n",
       "      <td>.net</td>\n",
       "      <td>scripting</td>\n",
       "      <td>compiler-construction</td>\n",
       "      <td>NaN</td>\n",
       "    </tr>\n",
       "  </tbody>\n",
       "</table>\n",
       "</div>"
      ],
      "text/plain": [
       "id        Tag1               Tag2       Tag3                   Tag4 Tag5\n",
       "80        flex     actionscript-3        air                    NaN  NaN\n",
       "90         svn        tortoisesvn     branch  branching-and-merging  NaN\n",
       "120        sql            asp.net    sitemap                    NaN  NaN\n",
       "180  algorithm  language-agnostic     colors            color-space  NaN\n",
       "260         c#               .net  scripting  compiler-construction  NaN"
      ]
     },
     "execution_count": 6,
     "metadata": {},
     "output_type": "execute_result"
    }
   ],
   "source": [
    "#Reformating the tags file to include all tags in separate columns per Id\n",
    "\n",
    "df['id'] = df.groupby('Id')['Tag'].cumcount()+1\n",
    "df['id'] = 'Tag' + df['id'].astype(str)\n",
    "df = df.set_index(['id', 'Id'])['Tag']\n",
    "df = df.unstack(0).rename_axis(None)\n",
    "#tagsData.columns = tagsData.columns.map(lambda x: x[1]) \n",
    "#tagsData = tagsData.reset_index() \n",
    "#tagsData = tagsData.unstack(0).rename_axis(None)\n",
    "\n",
    "#tagsData.columns = tagsData.columns.map(''.join)\n",
    "#tagsData.columns.names = ['Id']\n",
    "\n",
    "\n",
    "#tagsData.pivot(index='Id',columns='count',values='Tag')\\\n",
    "#   .rename_axis(None, axis = 1)\\\n",
    "#   .add_prefix('Tag')\\\n",
    "#   .reset_index() \n",
    "#tagsData.head()\n",
    "\n",
    "\n",
    "\n",
    "print(df.dtypes)\n",
    "df.head()"
   ]
  },
  {
   "cell_type": "code",
   "execution_count": 173,
   "id": "fdfc9663",
   "metadata": {},
   "outputs": [],
   "source": [
    "#Merging Dataframes\n",
    "#tagsData.col1 = tagsData.col1.astype(str)\n",
    "#questionsData.col2 = questionsData.col2.astype(str)\n",
    "#tagsData.astype('str').dtypes\n",
    "#questionsData.astype('str').dtypes\n",
    "#print(tagsData['Tag1'].dtype)\n",
    "#print(questionsData['Body'].dtype)\n",
    "\n"
   ]
  },
  {
   "cell_type": "code",
   "execution_count": 7,
   "id": "70d5c0a4",
   "metadata": {},
   "outputs": [
    {
     "data": {
      "text/html": [
       "<div>\n",
       "<style scoped>\n",
       "    .dataframe tbody tr th:only-of-type {\n",
       "        vertical-align: middle;\n",
       "    }\n",
       "\n",
       "    .dataframe tbody tr th {\n",
       "        vertical-align: top;\n",
       "    }\n",
       "\n",
       "    .dataframe thead th {\n",
       "        text-align: right;\n",
       "    }\n",
       "</style>\n",
       "<table border=\"1\" class=\"dataframe\">\n",
       "  <thead>\n",
       "    <tr style=\"text-align: right;\">\n",
       "      <th>id</th>\n",
       "      <th>Tag1</th>\n",
       "      <th>Tag2</th>\n",
       "      <th>Tag3</th>\n",
       "      <th>Tag4</th>\n",
       "      <th>Tag5</th>\n",
       "    </tr>\n",
       "  </thead>\n",
       "  <tbody>\n",
       "    <tr>\n",
       "      <th>80</th>\n",
       "      <td>flex</td>\n",
       "      <td>actionscript-3</td>\n",
       "      <td>air</td>\n",
       "      <td>NaN</td>\n",
       "      <td>NaN</td>\n",
       "    </tr>\n",
       "    <tr>\n",
       "      <th>90</th>\n",
       "      <td>svn</td>\n",
       "      <td>tortoisesvn</td>\n",
       "      <td>branch</td>\n",
       "      <td>branching-and-merging</td>\n",
       "      <td>NaN</td>\n",
       "    </tr>\n",
       "    <tr>\n",
       "      <th>120</th>\n",
       "      <td>sql</td>\n",
       "      <td>asp.net</td>\n",
       "      <td>sitemap</td>\n",
       "      <td>NaN</td>\n",
       "      <td>NaN</td>\n",
       "    </tr>\n",
       "    <tr>\n",
       "      <th>180</th>\n",
       "      <td>algorithm</td>\n",
       "      <td>language-agnostic</td>\n",
       "      <td>colors</td>\n",
       "      <td>color-space</td>\n",
       "      <td>NaN</td>\n",
       "    </tr>\n",
       "    <tr>\n",
       "      <th>260</th>\n",
       "      <td>c#</td>\n",
       "      <td>.net</td>\n",
       "      <td>scripting</td>\n",
       "      <td>compiler-construction</td>\n",
       "      <td>NaN</td>\n",
       "    </tr>\n",
       "  </tbody>\n",
       "</table>\n",
       "</div>"
      ],
      "text/plain": [
       "id        Tag1               Tag2       Tag3                   Tag4 Tag5\n",
       "80        flex     actionscript-3        air                    NaN  NaN\n",
       "90         svn        tortoisesvn     branch  branching-and-merging  NaN\n",
       "120        sql            asp.net    sitemap                    NaN  NaN\n",
       "180  algorithm  language-agnostic     colors            color-space  NaN\n",
       "260         c#               .net  scripting  compiler-construction  NaN"
      ]
     },
     "execution_count": 7,
     "metadata": {},
     "output_type": "execute_result"
    }
   ],
   "source": [
    "df.head()"
   ]
  },
  {
   "cell_type": "code",
   "execution_count": null,
   "id": "3759efe5",
   "metadata": {},
   "outputs": [],
   "source": []
  }
 ],
 "metadata": {
  "kernelspec": {
   "display_name": "Python 3",
   "language": "python",
   "name": "python3"
  },
  "language_info": {
   "codemirror_mode": {
    "name": "ipython",
    "version": 3
   },
   "file_extension": ".py",
   "mimetype": "text/x-python",
   "name": "python",
   "nbconvert_exporter": "python",
   "pygments_lexer": "ipython3",
   "version": "3.8.8"
  }
 },
 "nbformat": 4,
 "nbformat_minor": 5
}
